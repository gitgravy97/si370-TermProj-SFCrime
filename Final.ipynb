{
  "nbformat": 4,
  "nbformat_minor": 0,
  "metadata": {
    "colab": {
      "name": "FINAL.ipynb",
      "provenance": [],
      "collapsed_sections": []
    },
    "kernelspec": {
      "display_name": "Python 3",
      "language": "python",
      "name": "python3"
    },
    "language_info": {
      "codemirror_mode": {
        "name": "ipython",
        "version": 3
      },
      "file_extension": ".py",
      "mimetype": "text/x-python",
      "name": "python",
      "nbconvert_exporter": "python",
      "pygments_lexer": "ipython3",
      "version": "3.6.5"
    }
  },
  "cells": [
    {
      "cell_type": "markdown",
      "metadata": {
        "id": "vc3Wq5SrobtV"
      },
      "source": [
        "<h1><center>SI 370 Final Project<br />San Francisco Crime Classification & \n",
        "    Visualization</center></h1>\n",
        "<center>McCoy Doherty, Hailey Harris, Evan Hogan,<br />Joleen Powers, & Jeong-Woo Ko</center>\n",
        "<center>26 November 2019</center>"
      ]
    },
    {
      "cell_type": "markdown",
      "metadata": {
        "id": "4d1v8c2IZwzQ"
      },
      "source": [
        "<h1>Purpose Statement</h1>\n",
        "Technology is continually changing how law enforcement agencies strategize to combat crime.<br><br>\n",
        "\n",
        "Organizations like the FBI and the Department of Homeland Security use machine learning algorithms to classify and even predict crimes.<br><br>\n",
        "\n",
        "After a crime occurs, leads and evidence are sometimes lacking. Everything from subject description to time of day helps law enforcement agencies predict what happened and what can happen next.<br><br>\n",
        "\n",
        "In this Kaggle project, San Francisco Crime Classification, we utilize machine learning techniques to classify and predict what category of crime (homicide, theft, etc.) took place given the location and time data corresponding with a given crime."
      ]
    },
    {
      "cell_type": "markdown",
      "metadata": {
        "id": "DsrTfTS0jHuW"
      },
      "source": [
        "<h1>Imports and Setup</h1>"
      ]
    },
    {
      "cell_type": "code",
      "metadata": {
        "id": "Lo_pIi8NbrMA"
      },
      "source": [
        "import numpy as np\n",
        "import pandas as pd"
      ],
      "execution_count": null,
      "outputs": []
    },
    {
      "cell_type": "code",
      "metadata": {
        "id": "F0iQKbT_TGgS",
        "colab": {
          "base_uri": "https://localhost:8080/",
          "height": 34
        },
        "outputId": "d2c72ddb-935e-46cb-e4c6-613b78c5832a"
      },
      "source": [
        "from google.colab import drive\n",
        "drive.mount('/content/drive')"
      ],
      "execution_count": null,
      "outputs": [
        {
          "output_type": "stream",
          "text": [
            "Mounted at /content/drive\n"
          ],
          "name": "stdout"
        }
      ]
    },
    {
      "cell_type": "code",
      "metadata": {
        "id": "9_9e1YyspmWE"
      },
      "source": [
        "import warnings \n",
        "warnings.filterwarnings('ignore')"
      ],
      "execution_count": null,
      "outputs": []
    },
    {
      "cell_type": "markdown",
      "metadata": {
        "id": "P6FfJKpT2gBS"
      },
      "source": [
        ""
      ]
    },
    {
      "cell_type": "code",
      "metadata": {
        "id": "UthA7cVdbhyk"
      },
      "source": [
        "train = pd.read_csv('drive/Shared drives/SI370_KaggleDrive/assets/train.csv') \n",
        "test = pd.read_csv('drive/Shared drives/SI370_KaggleDrive/assets/test.csv')"
      ],
      "execution_count": null,
      "outputs": []
    },
    {
      "cell_type": "markdown",
      "metadata": {
        "id": "6KiNnwImjBBE"
      },
      "source": [
        "<h1>Cleaning, Prep</h1>"
      ]
    },
    {
      "cell_type": "markdown",
      "metadata": {
        "id": "IbsQ5YoT6QTH"
      },
      "source": [
        "Member functions to prepare data for classification. Adding metrics for time of year and time of day. Also added dummy bins for police department district that the crime occured in."
      ]
    },
    {
      "cell_type": "code",
      "metadata": {
        "id": "sv1SnOGp7VrF"
      },
      "source": [
        "def handle_dates(df):\n",
        "    df[\"Dates\"] = pd.to_datetime(df[\"Dates\"])\n",
        "    df[\"Month\"] = df[\"Dates\"].dt.month\n",
        "    df[\"Hour\"] = df[\"Dates\"].dt.hour\n",
        "    return(df)\n",
        "\n",
        "def add_seasons(df):\n",
        "    df[\"isWinter\"] = np.where(df.Month==12,1,np.where(\n",
        "        df.Month==1,1,np.where(\n",
        "            df.Month==2,1,0)))\n",
        "    \n",
        "    \n",
        "    df[\"isSpring\"] = np.where(df.Month==3,1,np.where(\n",
        "        df.Month==4,1,np.where(\n",
        "            df.Month==5,1,0)))    \n",
        "    \n",
        "    df[\"isSummer\"] = np.where(df.Month==6,1,np.where(\n",
        "        df.Month==7,1,np.where(\n",
        "            df.Month==8,1,0)))   \n",
        "    return(df)\n",
        "\n",
        "def is_night(df):\n",
        "    df[\"is_night\"] = np.where(df.Dates.dt.hour == 22, 1, np.where(\n",
        "    df.Dates.dt.hour == 23, 1, np.where(\n",
        "    df.Dates.dt.hour == 24, 1, np.where(\n",
        "    df.Dates.dt.hour == 0, 1, np.where(\n",
        "    df.Dates.dt.hour == 1, 1, np.where(\n",
        "    df.Dates.dt.hour == 2, 1, np.where(\n",
        "    df.Dates.dt.hour == 3, 1, np.where(\n",
        "    df.Dates.dt.hour == 4, 1, 0))))))))\n",
        "    return(df)\n",
        "\n",
        "def is_weekend(df):\n",
        "    df[\"is_weekend\"] = np.where(df.DayOfWeek == \"Friday\", 1, np.where(\n",
        "    df.DayOfWeek == \"Saturday\", 1, np.where(\n",
        "    df.DayOfWeek == \"Sunday\", 1, 0)))\n",
        "    return(df)\n",
        "\n",
        "def prepare_data(df):\n",
        "    if(\"Descript\" in df.columns):\n",
        "        df = df.drop(labels=[\"Descript\",\"Resolution\",\"Address\"], axis=1)\n",
        "\n",
        "    df = handle_dates(df=df)\n",
        "    df = add_seasons(df=df)\n",
        "    df = is_night(df=df)\n",
        "    df = is_weekend(df=df)\n",
        "    df = pd.get_dummies(data=df, columns=[\"PdDistrict\"])\n",
        "\n",
        "    for dropper in [\"Id\",\"Address\",\"Dates\",\"DayOfWeek\",\"Month\",\"Hour\"]:\n",
        "        if(dropper in df.columns):\n",
        "            df = df.drop(labels=dropper, axis=1)\n",
        "\n",
        "    return(df)\n"
      ],
      "execution_count": null,
      "outputs": []
    },
    {
      "cell_type": "markdown",
      "metadata": {
        "id": "ckC3aH817gc2"
      },
      "source": [
        "<h1>Model Training</h1>\n",
        "Test dataset is missing our main categorical feature, making it hard to work conventionally with the test dataset.<br>\n",
        "Translation: We can predict category but have nothing to check our answers with.<br>\n",
        "We'll need to use a train-test split derived from the training data.<br>"
      ]
    },
    {
      "cell_type": "code",
      "metadata": {
        "id": "1-aoHkbS-jI2"
      },
      "source": [
        "from sklearn.model_selection import train_test_split\n",
        "train_df, test_df = train_test_split(train, test_size=0.3)"
      ],
      "execution_count": null,
      "outputs": []
    },
    {
      "cell_type": "code",
      "metadata": {
        "id": "gTcwE5T4e2rZ"
      },
      "source": [
        ""
      ],
      "execution_count": null,
      "outputs": []
    },
    {
      "cell_type": "code",
      "metadata": {
        "id": "ftpfzKWd7fcb"
      },
      "source": [
        "train_df = prepare_data(df=train_df)\n",
        "test_df = prepare_data(df=test_df)"
      ],
      "execution_count": null,
      "outputs": []
    },
    {
      "cell_type": "code",
      "metadata": {
        "id": "cUGlrv9Z_FpG",
        "colab": {
          "base_uri": "https://localhost:8080/",
          "height": 196
        },
        "outputId": "9d4aad28-ec99-4eb0-d2bf-6f4738171d85"
      },
      "source": [
        "train_df.head(3)"
      ],
      "execution_count": null,
      "outputs": [
        {
          "output_type": "execute_result",
          "data": {
            "text/html": [
              "<div>\n",
              "<style scoped>\n",
              "    .dataframe tbody tr th:only-of-type {\n",
              "        vertical-align: middle;\n",
              "    }\n",
              "\n",
              "    .dataframe tbody tr th {\n",
              "        vertical-align: top;\n",
              "    }\n",
              "\n",
              "    .dataframe thead th {\n",
              "        text-align: right;\n",
              "    }\n",
              "</style>\n",
              "<table border=\"1\" class=\"dataframe\">\n",
              "  <thead>\n",
              "    <tr style=\"text-align: right;\">\n",
              "      <th></th>\n",
              "      <th>Category</th>\n",
              "      <th>X</th>\n",
              "      <th>Y</th>\n",
              "      <th>isWinter</th>\n",
              "      <th>isSpring</th>\n",
              "      <th>isSummer</th>\n",
              "      <th>is_night</th>\n",
              "      <th>is_weekend</th>\n",
              "      <th>PdDistrict_BAYVIEW</th>\n",
              "      <th>PdDistrict_CENTRAL</th>\n",
              "      <th>PdDistrict_INGLESIDE</th>\n",
              "      <th>PdDistrict_MISSION</th>\n",
              "      <th>PdDistrict_NORTHERN</th>\n",
              "      <th>PdDistrict_PARK</th>\n",
              "      <th>PdDistrict_RICHMOND</th>\n",
              "      <th>PdDistrict_SOUTHERN</th>\n",
              "      <th>PdDistrict_TARAVAL</th>\n",
              "      <th>PdDistrict_TENDERLOIN</th>\n",
              "    </tr>\n",
              "  </thead>\n",
              "  <tbody>\n",
              "    <tr>\n",
              "      <th>387521</th>\n",
              "      <td>FRAUD</td>\n",
              "      <td>-122.427400</td>\n",
              "      <td>37.782057</td>\n",
              "      <td>0</td>\n",
              "      <td>0</td>\n",
              "      <td>0</td>\n",
              "      <td>0</td>\n",
              "      <td>1</td>\n",
              "      <td>0</td>\n",
              "      <td>0</td>\n",
              "      <td>0</td>\n",
              "      <td>0</td>\n",
              "      <td>1</td>\n",
              "      <td>0</td>\n",
              "      <td>0</td>\n",
              "      <td>0</td>\n",
              "      <td>0</td>\n",
              "      <td>0</td>\n",
              "    </tr>\n",
              "    <tr>\n",
              "      <th>7779</th>\n",
              "      <td>WEAPON LAWS</td>\n",
              "      <td>-122.411583</td>\n",
              "      <td>37.766841</td>\n",
              "      <td>0</td>\n",
              "      <td>1</td>\n",
              "      <td>0</td>\n",
              "      <td>0</td>\n",
              "      <td>1</td>\n",
              "      <td>0</td>\n",
              "      <td>0</td>\n",
              "      <td>0</td>\n",
              "      <td>1</td>\n",
              "      <td>0</td>\n",
              "      <td>0</td>\n",
              "      <td>0</td>\n",
              "      <td>0</td>\n",
              "      <td>0</td>\n",
              "      <td>0</td>\n",
              "    </tr>\n",
              "    <tr>\n",
              "      <th>766576</th>\n",
              "      <td>OTHER OFFENSES</td>\n",
              "      <td>-122.471123</td>\n",
              "      <td>37.709534</td>\n",
              "      <td>0</td>\n",
              "      <td>0</td>\n",
              "      <td>1</td>\n",
              "      <td>1</td>\n",
              "      <td>1</td>\n",
              "      <td>0</td>\n",
              "      <td>0</td>\n",
              "      <td>0</td>\n",
              "      <td>0</td>\n",
              "      <td>0</td>\n",
              "      <td>0</td>\n",
              "      <td>0</td>\n",
              "      <td>0</td>\n",
              "      <td>1</td>\n",
              "      <td>0</td>\n",
              "    </tr>\n",
              "  </tbody>\n",
              "</table>\n",
              "</div>"
            ],
            "text/plain": [
              "              Category           X  ...  PdDistrict_TARAVAL  PdDistrict_TENDERLOIN\n",
              "387521           FRAUD -122.427400  ...                   0                      0\n",
              "7779       WEAPON LAWS -122.411583  ...                   0                      0\n",
              "766576  OTHER OFFENSES -122.471123  ...                   1                      0\n",
              "\n",
              "[3 rows x 18 columns]"
            ]
          },
          "metadata": {
            "tags": []
          },
          "execution_count": 10
        }
      ]
    },
    {
      "cell_type": "code",
      "metadata": {
        "id": "Njx3oz6dh0Pb"
      },
      "source": [
        "X_train = train_df.drop(labels=[\"Category\"],axis=1)\n",
        "y_train = train_df.Category\n",
        "X_test = test_df.drop(labels=[\"Category\"],axis=1)\n",
        "y_test = test_df.Category"
      ],
      "execution_count": null,
      "outputs": []
    },
    {
      "cell_type": "code",
      "metadata": {
        "id": "uXKFnZyBrdq-",
        "colab": {
          "base_uri": "https://localhost:8080/",
          "height": 224
        },
        "outputId": "db7e0540-c3c2-423b-e1a8-27555706074b"
      },
      "source": [
        "if(0):\n",
        "    print(X_train.head(5),'\\n', y_train.head(5))\n",
        "    print('\\n')\n",
        "    print(X_test.head(5),'\\n', y_test.head(5))\n",
        "X_train.head(5)"
      ],
      "execution_count": null,
      "outputs": [
        {
          "output_type": "execute_result",
          "data": {
            "text/html": [
              "<div>\n",
              "<style scoped>\n",
              "    .dataframe tbody tr th:only-of-type {\n",
              "        vertical-align: middle;\n",
              "    }\n",
              "\n",
              "    .dataframe tbody tr th {\n",
              "        vertical-align: top;\n",
              "    }\n",
              "\n",
              "    .dataframe thead th {\n",
              "        text-align: right;\n",
              "    }\n",
              "</style>\n",
              "<table border=\"1\" class=\"dataframe\">\n",
              "  <thead>\n",
              "    <tr style=\"text-align: right;\">\n",
              "      <th></th>\n",
              "      <th>X</th>\n",
              "      <th>Y</th>\n",
              "      <th>isWinter</th>\n",
              "      <th>isSpring</th>\n",
              "      <th>isSummer</th>\n",
              "      <th>is_night</th>\n",
              "      <th>is_weekend</th>\n",
              "      <th>PdDistrict_BAYVIEW</th>\n",
              "      <th>PdDistrict_CENTRAL</th>\n",
              "      <th>PdDistrict_INGLESIDE</th>\n",
              "      <th>PdDistrict_MISSION</th>\n",
              "      <th>PdDistrict_NORTHERN</th>\n",
              "      <th>PdDistrict_PARK</th>\n",
              "      <th>PdDistrict_RICHMOND</th>\n",
              "      <th>PdDistrict_SOUTHERN</th>\n",
              "      <th>PdDistrict_TARAVAL</th>\n",
              "      <th>PdDistrict_TENDERLOIN</th>\n",
              "    </tr>\n",
              "  </thead>\n",
              "  <tbody>\n",
              "    <tr>\n",
              "      <th>387521</th>\n",
              "      <td>-122.427400</td>\n",
              "      <td>37.782057</td>\n",
              "      <td>0</td>\n",
              "      <td>0</td>\n",
              "      <td>0</td>\n",
              "      <td>0</td>\n",
              "      <td>1</td>\n",
              "      <td>0</td>\n",
              "      <td>0</td>\n",
              "      <td>0</td>\n",
              "      <td>0</td>\n",
              "      <td>1</td>\n",
              "      <td>0</td>\n",
              "      <td>0</td>\n",
              "      <td>0</td>\n",
              "      <td>0</td>\n",
              "      <td>0</td>\n",
              "    </tr>\n",
              "    <tr>\n",
              "      <th>7779</th>\n",
              "      <td>-122.411583</td>\n",
              "      <td>37.766841</td>\n",
              "      <td>0</td>\n",
              "      <td>1</td>\n",
              "      <td>0</td>\n",
              "      <td>0</td>\n",
              "      <td>1</td>\n",
              "      <td>0</td>\n",
              "      <td>0</td>\n",
              "      <td>0</td>\n",
              "      <td>1</td>\n",
              "      <td>0</td>\n",
              "      <td>0</td>\n",
              "      <td>0</td>\n",
              "      <td>0</td>\n",
              "      <td>0</td>\n",
              "      <td>0</td>\n",
              "    </tr>\n",
              "    <tr>\n",
              "      <th>766576</th>\n",
              "      <td>-122.471123</td>\n",
              "      <td>37.709534</td>\n",
              "      <td>0</td>\n",
              "      <td>0</td>\n",
              "      <td>1</td>\n",
              "      <td>1</td>\n",
              "      <td>1</td>\n",
              "      <td>0</td>\n",
              "      <td>0</td>\n",
              "      <td>0</td>\n",
              "      <td>0</td>\n",
              "      <td>0</td>\n",
              "      <td>0</td>\n",
              "      <td>0</td>\n",
              "      <td>0</td>\n",
              "      <td>1</td>\n",
              "      <td>0</td>\n",
              "    </tr>\n",
              "    <tr>\n",
              "      <th>412626</th>\n",
              "      <td>-122.396422</td>\n",
              "      <td>37.794145</td>\n",
              "      <td>0</td>\n",
              "      <td>0</td>\n",
              "      <td>1</td>\n",
              "      <td>0</td>\n",
              "      <td>1</td>\n",
              "      <td>0</td>\n",
              "      <td>1</td>\n",
              "      <td>0</td>\n",
              "      <td>0</td>\n",
              "      <td>0</td>\n",
              "      <td>0</td>\n",
              "      <td>0</td>\n",
              "      <td>0</td>\n",
              "      <td>0</td>\n",
              "      <td>0</td>\n",
              "    </tr>\n",
              "    <tr>\n",
              "      <th>55496</th>\n",
              "      <td>-122.431290</td>\n",
              "      <td>37.772055</td>\n",
              "      <td>0</td>\n",
              "      <td>0</td>\n",
              "      <td>1</td>\n",
              "      <td>0</td>\n",
              "      <td>0</td>\n",
              "      <td>0</td>\n",
              "      <td>0</td>\n",
              "      <td>0</td>\n",
              "      <td>0</td>\n",
              "      <td>1</td>\n",
              "      <td>0</td>\n",
              "      <td>0</td>\n",
              "      <td>0</td>\n",
              "      <td>0</td>\n",
              "      <td>0</td>\n",
              "    </tr>\n",
              "  </tbody>\n",
              "</table>\n",
              "</div>"
            ],
            "text/plain": [
              "                 X          Y  ...  PdDistrict_TARAVAL  PdDistrict_TENDERLOIN\n",
              "387521 -122.427400  37.782057  ...                   0                      0\n",
              "7779   -122.411583  37.766841  ...                   0                      0\n",
              "766576 -122.471123  37.709534  ...                   1                      0\n",
              "412626 -122.396422  37.794145  ...                   0                      0\n",
              "55496  -122.431290  37.772055  ...                   0                      0\n",
              "\n",
              "[5 rows x 17 columns]"
            ]
          },
          "metadata": {
            "tags": []
          },
          "execution_count": 19
        }
      ]
    },
    {
      "cell_type": "code",
      "metadata": {
        "id": "KBPlFns3h84m"
      },
      "source": [
        "import sklearn.ensemble as skens\n",
        "rf_model = skens.RandomForestClassifier(n_estimators=10,oob_score=True, criterion='entropy')"
      ],
      "execution_count": null,
      "outputs": []
    },
    {
      "cell_type": "code",
      "metadata": {
        "id": "PcWo4f4iiS1O",
        "colab": {
          "base_uri": "https://localhost:8080/",
          "height": 153
        },
        "outputId": "80862d41-1ad3-4065-b89d-a21fb9847fc3"
      },
      "source": [
        "rf_model.fit(X_train, y_train)"
      ],
      "execution_count": null,
      "outputs": [
        {
          "output_type": "execute_result",
          "data": {
            "text/plain": [
              "RandomForestClassifier(bootstrap=True, ccp_alpha=0.0, class_weight=None,\n",
              "                       criterion='entropy', max_depth=None, max_features='auto',\n",
              "                       max_leaf_nodes=None, max_samples=None,\n",
              "                       min_impurity_decrease=0.0, min_impurity_split=None,\n",
              "                       min_samples_leaf=1, min_samples_split=2,\n",
              "                       min_weight_fraction_leaf=0.0, n_estimators=10,\n",
              "                       n_jobs=None, oob_score=True, random_state=None,\n",
              "                       verbose=0, warm_start=False)"
            ]
          },
          "metadata": {
            "tags": []
          },
          "execution_count": 13
        }
      ]
    },
    {
      "cell_type": "code",
      "metadata": {
        "id": "GWeBWRkb3nRN"
      },
      "source": [
        "from sklearn.metrics import accuracy_score\n",
        "accuracy = rf_model.score(X_test, y_test)"
      ],
      "execution_count": null,
      "outputs": []
    },
    {
      "cell_type": "code",
      "metadata": {
        "id": "CWccc-xX_wdP",
        "colab": {
          "base_uri": "https://localhost:8080/",
          "height": 34
        },
        "outputId": "bc3dc730-5a4b-452b-d852-9c89612cafa3"
      },
      "source": [
        "accuracy"
      ],
      "execution_count": null,
      "outputs": [
        {
          "output_type": "execute_result",
          "data": {
            "text/plain": [
              "0.2513372435130877"
            ]
          },
          "metadata": {
            "tags": []
          },
          "execution_count": 13
        }
      ]
    },
    {
      "cell_type": "markdown",
      "metadata": {
        "id": "BxlxUqBe0hQL"
      },
      "source": [
        ""
      ]
    },
    {
      "cell_type": "code",
      "metadata": {
        "id": "kAe8o49N3mTx",
        "colab": {
          "base_uri": "https://localhost:8080/",
          "height": 282
        },
        "outputId": "0dd4c7fa-1cef-4176-d762-7bd9800924a9"
      },
      "source": [
        "determinance = rf_model.feature_importances_\n",
        "pd.DataFrame({\"determinance\":determinance}, index=list(X_train)).plot(kind=\"barh\")"
      ],
      "execution_count": null,
      "outputs": [
        {
          "output_type": "execute_result",
          "data": {
            "text/plain": [
              "<matplotlib.axes._subplots.AxesSubplot at 0x7f3555009d30>"
            ]
          },
          "metadata": {
            "tags": []
          },
          "execution_count": 14
        },
        {
          "output_type": "display_data",
          "data": {
            "image/png": "[encoded data removed]",
            "text/plain": [
              "<Figure size 432x288 with 1 Axes>"
            ]
          },
          "metadata": {
            "tags": []
          }
        }
      ]
    },
    {
      "cell_type": "markdown",
      "metadata": {
        "id": "mRYL0RDyXguv"
      },
      "source": [
        "<h1>Model // HyperParameter Tuning</h1>\n",
        "\n",
        "Using gridsearch, we passed in a dictionary of experimental parameters to obtain reasonable \"ballpark\" estimates for improved parameters"
      ]
    },
    {
      "cell_type": "code",
      "metadata": {
        "id": "gkCQ83wkXkzE"
      },
      "source": [
        "from sklearn.model_selection import GridSearchCV\n",
        "paramaters = {'n_estimators': [25, 30, 35, 40], 'max_depth': [1, 5, 10, 15, 20], 'min_samples_split' : [8, 9, 10]}"
      ],
      "execution_count": null,
      "outputs": []
    },
    {
      "cell_type": "code",
      "metadata": {
        "id": "DeAfOQ6qYzRl"
      },
      "source": [
        "train = prepare_data(df=train)"
      ],
      "execution_count": null,
      "outputs": []
    },
    {
      "cell_type": "code",
      "metadata": {
        "id": "PyjVAxMFYBOg"
      },
      "source": [
        "grid = GridSearchCV(rf_model, paramaters, cv=10)\n",
        "grid.fit(train.drop(columns=[\"Category\"],axis=1),train[\"Category\"])\n",
        "\n",
        "# takes 30+ min to run. Only ran these steps once to avoid useless waiting. "
      ],
      "execution_count": null,
      "outputs": []
    },
    {
      "cell_type": "code",
      "metadata": {
        "id": "OCcAmOsnYnTO"
      },
      "source": [
        "grid.best_estimator_\n",
        "# get best model setup for tuning\n"
      ],
      "execution_count": null,
      "outputs": []
    },
    {
      "cell_type": "code",
      "metadata": {
        "id": "STWBOrl3Yop-"
      },
      "source": [
        "grid.best_params_\n",
        "# get best parameter to plug into the ideal model above"
      ],
      "execution_count": null,
      "outputs": []
    },
    {
      "cell_type": "markdown",
      "metadata": {
        "id": "G2MG_IAruDeg"
      },
      "source": [
        "<h1>Improved Model</h1>\n",
        "\n",
        "Using the \"ballpark\" estimates for better parameters, we expiremented with random numbers to achieve higher accuracy with subsequent runs"
      ]
    },
    {
      "cell_type": "code",
      "metadata": {
        "id": "vZGRITC7uGWA"
      },
      "source": [
        "import sklearn.ensemble as skens\n",
        "better_rf_model = skens.RandomForestClassifier(bootstrap=True, class_weight=None, criterion='entropy',\n",
        "            max_depth=17, max_features='auto', max_leaf_nodes=None,\n",
        "            min_impurity_decrease=0.0, min_impurity_split=None,\n",
        "            min_samples_leaf=1, min_samples_split=10,\n",
        "            min_weight_fraction_leaf=0.0, n_estimators=45, n_jobs=1,\n",
        "            oob_score=True, random_state=None, verbose=0, warm_start=False)"
      ],
      "execution_count": null,
      "outputs": []
    },
    {
      "cell_type": "code",
      "metadata": {
        "id": "u8XOeCMMuSey",
        "colab": {
          "base_uri": "https://localhost:8080/",
          "height": 134
        },
        "outputId": "9bb7827a-08ac-494f-8cbd-519700567afe"
      },
      "source": [
        "better_rf_model.fit(X_train, y_train)"
      ],
      "execution_count": null,
      "outputs": [
        {
          "output_type": "execute_result",
          "data": {
            "text/plain": [
              "RandomForestClassifier(bootstrap=True, class_weight=None, criterion='entropy',\n",
              "                       max_depth=17, max_features='auto', max_leaf_nodes=None,\n",
              "                       min_impurity_decrease=0.0, min_impurity_split=None,\n",
              "                       min_samples_leaf=1, min_samples_split=10,\n",
              "                       min_weight_fraction_leaf=0.0, n_estimators=45, n_jobs=1,\n",
              "                       oob_score=True, random_state=None, verbose=0,\n",
              "                       warm_start=False)"
            ]
          },
          "metadata": {
            "tags": []
          },
          "execution_count": 39
        }
      ]
    },
    {
      "cell_type": "code",
      "metadata": {
        "id": "2qDSF2svuhf9",
        "colab": {
          "base_uri": "https://localhost:8080/",
          "height": 34
        },
        "outputId": "60f8a156-8571-47c3-f47e-deac95bec447"
      },
      "source": [
        "from sklearn.metrics import accuracy_score\n",
        "accuracy = better_rf_model.score(X_test, y_test)\n",
        "accuracy"
      ],
      "execution_count": null,
      "outputs": [
        {
          "output_type": "execute_result",
          "data": {
            "text/plain": [
              "0.2751931363058292"
            ]
          },
          "metadata": {
            "tags": []
          },
          "execution_count": 40
        }
      ]
    },
    {
      "cell_type": "markdown",
      "metadata": {
        "id": "vjUaq2_3A07p"
      },
      "source": [
        "<h1>Feature Importance</h1>"
      ]
    },
    {
      "cell_type": "code",
      "metadata": {
        "id": "Ua47yzOMA3rY"
      },
      "source": [
        "determinance = better_rf_model.feature_importances_"
      ],
      "execution_count": null,
      "outputs": []
    },
    {
      "cell_type": "code",
      "metadata": {
        "id": "le5kLK21A-Gn",
        "colab": {
          "base_uri": "https://localhost:8080/",
          "height": 282
        },
        "outputId": "503923c5-ff7c-4caa-c6b0-302ae855e043"
      },
      "source": [
        "pd.DataFrame({\"determinance\":determinance}, index=list(X_train)).plot(kind=\"barh\")"
      ],
      "execution_count": null,
      "outputs": [
        {
          "output_type": "execute_result",
          "data": {
            "text/plain": [
              "<matplotlib.axes._subplots.AxesSubplot at 0x7fbd7df127f0>"
            ]
          },
          "metadata": {
            "tags": []
          },
          "execution_count": 42
        },
        {
          "output_type": "display_data",
          "data": {
            "image/png": "[encoded data removed]",
            "text/plain": [
              "<Figure size 432x288 with 1 Axes>"
            ]
          },
          "metadata": {
            "tags": []
          }
        }
      ]
    },
    {
      "cell_type": "markdown",
      "metadata": {
        "id": "CYAm76s9fg2C"
      },
      "source": [
        "<h1>Experimenting with Different Models</h1>\n",
        "\n",
        "Using pipelines to test other classifiers to see if they perform better\n"
      ]
    },
    {
      "cell_type": "code",
      "metadata": {
        "id": "FwkxdC-z_PIS",
        "colab": {
          "base_uri": "https://localhost:8080/",
          "height": 867
        },
        "outputId": "af53359b-76ea-4ae4-c105-28e2ee1a50dc"
      },
      "source": [
        "from sklearn.pipeline import Pipeline\n",
        "from sklearn.metrics import accuracy_score, log_loss\n",
        "from sklearn.neighbors import KNeighborsClassifier\n",
        "from sklearn.svm import SVC, LinearSVC, NuSVC\n",
        "from sklearn.tree import DecisionTreeClassifier\n",
        "from sklearn.ensemble import RandomForestClassifier, AdaBoostClassifier, GradientBoostingClassifier\n",
        "from sklearn.discriminant_analysis import LinearDiscriminantAnalysis\n",
        "from sklearn.discriminant_analysis import QuadraticDiscriminantAnalysis\n",
        "\n",
        "classifiers = [\n",
        "    KNeighborsClassifier(3),\n",
        "    SVC(kernel=\"rbf\", C=0.025, probability=True),\n",
        "    DecisionTreeClassifier(),\n",
        "    RandomForestClassifier(),\n",
        "    AdaBoostClassifier(),\n",
        "    GradientBoostingClassifier()\n",
        "    ]\n",
        "for classifier in classifiers:\n",
        "    print(\"\\nrunning new classifier\")\n",
        "    pipe = Pipeline(steps=[('classifier', classifier)])\n",
        "    pipe.fit(X_train.sample(n=10000), y_train.sample(n=10000))   \n",
        "    print(classifier)\n",
        "    print(\"model score: %.3f\" % pipe.score(X_test, y_test))"
      ],
      "execution_count": null,
      "outputs": [
        {
          "output_type": "stream",
          "text": [
            "\n",
            "running new classifier\n",
            "KNeighborsClassifier(algorithm='auto', leaf_size=30, metric='minkowski',\n",
            "                     metric_params=None, n_jobs=None, n_neighbors=3, p=2,\n",
            "                     weights='uniform')\n",
            "model score: 0.104\n",
            "\n",
            "running new classifier\n",
            "SVC(C=0.025, cache_size=200, class_weight=None, coef0=0.0,\n",
            "    decision_function_shape='ovr', degree=3, gamma='auto_deprecated',\n",
            "    kernel='rbf', max_iter=-1, probability=True, random_state=None,\n",
            "    shrinking=True, tol=0.001, verbose=False)\n",
            "model score: 0.198\n",
            "\n",
            "running new classifier\n",
            "DecisionTreeClassifier(class_weight=None, criterion='gini', max_depth=None,\n",
            "                       max_features=None, max_leaf_nodes=None,\n",
            "                       min_impurity_decrease=0.0, min_impurity_split=None,\n",
            "                       min_samples_leaf=1, min_samples_split=2,\n",
            "                       min_weight_fraction_leaf=0.0, presort=False,\n",
            "                       random_state=None, splitter='best')\n",
            "model score: 0.100\n",
            "\n",
            "running new classifier\n",
            "RandomForestClassifier(bootstrap=True, class_weight=None, criterion='gini',\n",
            "                       max_depth=None, max_features='auto', max_leaf_nodes=None,\n",
            "                       min_impurity_decrease=0.0, min_impurity_split=None,\n",
            "                       min_samples_leaf=1, min_samples_split=2,\n",
            "                       min_weight_fraction_leaf=0.0, n_estimators=10,\n",
            "                       n_jobs=None, oob_score=False, random_state=None,\n",
            "                       verbose=0, warm_start=False)\n",
            "model score: 0.109\n",
            "\n",
            "running new classifier\n",
            "AdaBoostClassifier(algorithm='SAMME.R', base_estimator=None, learning_rate=1.0,\n",
            "                   n_estimators=50, random_state=None)\n",
            "model score: 0.198\n",
            "\n",
            "running new classifier\n",
            "GradientBoostingClassifier(criterion='friedman_mse', init=None,\n",
            "                           learning_rate=0.1, loss='deviance', max_depth=3,\n",
            "                           max_features=None, max_leaf_nodes=None,\n",
            "                           min_impurity_decrease=0.0, min_impurity_split=None,\n",
            "                           min_samples_leaf=1, min_samples_split=2,\n",
            "                           min_weight_fraction_leaf=0.0, n_estimators=100,\n",
            "                           n_iter_no_change=None, presort='auto',\n",
            "                           random_state=None, subsample=1.0, tol=0.0001,\n",
            "                           validation_fraction=0.1, verbose=0,\n",
            "                           warm_start=False)\n",
            "model score: 0.164\n"
          ],
          "name": "stdout"
        }
      ]
    },
    {
      "cell_type": "code",
      "metadata": {
        "id": "UmwwfI_ATAn6",
        "colab": {
          "base_uri": "https://localhost:8080/",
          "height": 50
        },
        "outputId": "f9e26f52-7e1b-4a7b-8fa6-99df69eda5d6"
      },
      "source": [
        "from sklearn.ensemble import GradientBoostingClassifier, AdaBoostClassifier\n",
        "model = AdaBoostClassifier()\n",
        "model.fit(X_train, y_train)"
      ],
      "execution_count": null,
      "outputs": [
        {
          "output_type": "execute_result",
          "data": {
            "text/plain": [
              "AdaBoostClassifier(algorithm='SAMME.R', base_estimator=None, learning_rate=1.0,\n",
              "                   n_estimators=50, random_state=None)"
            ]
          },
          "metadata": {
            "tags": []
          },
          "execution_count": 44
        }
      ]
    },
    {
      "cell_type": "code",
      "metadata": {
        "id": "XTnjhoVOTAn8",
        "colab": {
          "base_uri": "https://localhost:8080/",
          "height": 34
        },
        "outputId": "a67cfa36-113b-438c-f672-56b31f836337"
      },
      "source": [
        "from sklearn.metrics import accuracy_score\n",
        "accuracy = model.score(X_test, y_test)\n",
        "accuracy"
      ],
      "execution_count": null,
      "outputs": [
        {
          "output_type": "execute_result",
          "data": {
            "text/plain": [
              "0.22043543458041492"
            ]
          },
          "metadata": {
            "tags": []
          },
          "execution_count": 45
        }
      ]
    },
    {
      "cell_type": "markdown",
      "metadata": {
        "id": "1FIVo6ifTAn-"
      },
      "source": [
        "<h1>Pipeline Test Results</h1>\n",
        "The pipeline test produced models more accurate than random forrest with subset data. However, the code demonstrated above shows that, when trained with the whole set, Random Forest outperforms. Therefore, Random Forest will be our choice for prediction."
      ]
    },
    {
      "cell_type": "markdown",
      "metadata": {
        "id": "qENbRwrVwmUu"
      },
      "source": [
        "<h1>The Final Prediction</h1>"
      ]
    },
    {
      "cell_type": "code",
      "metadata": {
        "id": "19qMLLeWwtjR"
      },
      "source": [
        "test_raw = pd.read_csv(\"drive/Shared drives/SI370_KaggleDrive/assets/test.csv\")\n",
        "test_output = test_raw.copy()"
      ],
      "execution_count": null,
      "outputs": []
    },
    {
      "cell_type": "code",
      "metadata": {
        "id": "1xCMkNN-TAn-"
      },
      "source": [
        "test_model = prepare_data(test_raw)"
      ],
      "execution_count": null,
      "outputs": []
    },
    {
      "cell_type": "code",
      "metadata": {
        "id": "5uADxgGqyDes"
      },
      "source": [
        "predicted_labels = better_rf_model.predict(test_model)"
      ],
      "execution_count": null,
      "outputs": []
    },
    {
      "cell_type": "code",
      "metadata": {
        "id": "fyH7Pa60yGEh",
        "colab": {
          "base_uri": "https://localhost:8080/",
          "height": 343
        },
        "outputId": "164e3b32-a929-4dc6-c54a-7006d6bf0d24"
      },
      "source": [
        "test_output['category_pred'] = predicted_labels\n",
        "test_output.sample(10)"
      ],
      "execution_count": null,
      "outputs": [
        {
          "output_type": "execute_result",
          "data": {
            "text/html": [
              "<div>\n",
              "<style scoped>\n",
              "    .dataframe tbody tr th:only-of-type {\n",
              "        vertical-align: middle;\n",
              "    }\n",
              "\n",
              "    .dataframe tbody tr th {\n",
              "        vertical-align: top;\n",
              "    }\n",
              "\n",
              "    .dataframe thead th {\n",
              "        text-align: right;\n",
              "    }\n",
              "</style>\n",
              "<table border=\"1\" class=\"dataframe\">\n",
              "  <thead>\n",
              "    <tr style=\"text-align: right;\">\n",
              "      <th></th>\n",
              "      <th>Id</th>\n",
              "      <th>Dates</th>\n",
              "      <th>DayOfWeek</th>\n",
              "      <th>PdDistrict</th>\n",
              "      <th>Address</th>\n",
              "      <th>X</th>\n",
              "      <th>Y</th>\n",
              "      <th>category_pred</th>\n",
              "    </tr>\n",
              "  </thead>\n",
              "  <tbody>\n",
              "    <tr>\n",
              "      <th>333971</th>\n",
              "      <td>333971</td>\n",
              "      <td>2010-09-27 07:00:00</td>\n",
              "      <td>Monday</td>\n",
              "      <td>TARAVAL</td>\n",
              "      <td>500 Block of HOLLOWAY AV</td>\n",
              "      <td>-122.458703</td>\n",
              "      <td>37.721784</td>\n",
              "      <td>MISSING PERSON</td>\n",
              "    </tr>\n",
              "    <tr>\n",
              "      <th>203063</th>\n",
              "      <td>203063</td>\n",
              "      <td>2012-09-11 00:01:00</td>\n",
              "      <td>Tuesday</td>\n",
              "      <td>SOUTHERN</td>\n",
              "      <td>200 Block of HARRISON ST</td>\n",
              "      <td>-122.390709</td>\n",
              "      <td>37.787749</td>\n",
              "      <td>LARCENY/THEFT</td>\n",
              "    </tr>\n",
              "    <tr>\n",
              "      <th>395042</th>\n",
              "      <td>395042</td>\n",
              "      <td>2009-11-02 09:30:00</td>\n",
              "      <td>Monday</td>\n",
              "      <td>MISSION</td>\n",
              "      <td>900 Block of POTRERO AV</td>\n",
              "      <td>-122.406605</td>\n",
              "      <td>37.757158</td>\n",
              "      <td>MISSING PERSON</td>\n",
              "    </tr>\n",
              "    <tr>\n",
              "      <th>72153</th>\n",
              "      <td>72153</td>\n",
              "      <td>2014-06-03 22:30:00</td>\n",
              "      <td>Tuesday</td>\n",
              "      <td>BAYVIEW</td>\n",
              "      <td>1800 Block of 25TH ST</td>\n",
              "      <td>-122.397497</td>\n",
              "      <td>37.752307</td>\n",
              "      <td>ASSAULT</td>\n",
              "    </tr>\n",
              "    <tr>\n",
              "      <th>747179</th>\n",
              "      <td>747179</td>\n",
              "      <td>2004-10-24 10:00:00</td>\n",
              "      <td>Sunday</td>\n",
              "      <td>RICHMOND</td>\n",
              "      <td>1700 Block of BRODERICK ST</td>\n",
              "      <td>-122.441754</td>\n",
              "      <td>37.786452</td>\n",
              "      <td>LARCENY/THEFT</td>\n",
              "    </tr>\n",
              "    <tr>\n",
              "      <th>730078</th>\n",
              "      <td>730078</td>\n",
              "      <td>2005-01-18 22:14:00</td>\n",
              "      <td>Tuesday</td>\n",
              "      <td>BAYVIEW</td>\n",
              "      <td>700 Block of AMADOR ST</td>\n",
              "      <td>-122.386176</td>\n",
              "      <td>37.745805</td>\n",
              "      <td>OTHER OFFENSES</td>\n",
              "    </tr>\n",
              "    <tr>\n",
              "      <th>277992</th>\n",
              "      <td>277992</td>\n",
              "      <td>2011-07-24 10:30:00</td>\n",
              "      <td>Sunday</td>\n",
              "      <td>TARAVAL</td>\n",
              "      <td>19TH AV / LAWTON ST</td>\n",
              "      <td>-122.476685</td>\n",
              "      <td>37.757968</td>\n",
              "      <td>OTHER OFFENSES</td>\n",
              "    </tr>\n",
              "    <tr>\n",
              "      <th>162723</th>\n",
              "      <td>162723</td>\n",
              "      <td>2013-03-27 13:45:00</td>\n",
              "      <td>Wednesday</td>\n",
              "      <td>TENDERLOIN</td>\n",
              "      <td>300 Block of EDDY ST</td>\n",
              "      <td>-122.412931</td>\n",
              "      <td>37.783834</td>\n",
              "      <td>NON-CRIMINAL</td>\n",
              "    </tr>\n",
              "    <tr>\n",
              "      <th>138158</th>\n",
              "      <td>138158</td>\n",
              "      <td>2013-07-20 22:15:00</td>\n",
              "      <td>Saturday</td>\n",
              "      <td>NORTHERN</td>\n",
              "      <td>POST ST / FRANKLIN ST</td>\n",
              "      <td>-122.423218</td>\n",
              "      <td>37.786402</td>\n",
              "      <td>LARCENY/THEFT</td>\n",
              "    </tr>\n",
              "    <tr>\n",
              "      <th>165414</th>\n",
              "      <td>165414</td>\n",
              "      <td>2013-03-13 23:05:00</td>\n",
              "      <td>Wednesday</td>\n",
              "      <td>PARK</td>\n",
              "      <td>SCOTT ST / EDDY ST</td>\n",
              "      <td>-122.437263</td>\n",
              "      <td>37.780802</td>\n",
              "      <td>OTHER OFFENSES</td>\n",
              "    </tr>\n",
              "  </tbody>\n",
              "</table>\n",
              "</div>"
            ],
            "text/plain": [
              "            Id                Dates  ...          Y   category_pred\n",
              "333971  333971  2010-09-27 07:00:00  ...  37.721784  MISSING PERSON\n",
              "203063  203063  2012-09-11 00:01:00  ...  37.787749   LARCENY/THEFT\n",
              "395042  395042  2009-11-02 09:30:00  ...  37.757158  MISSING PERSON\n",
              "72153    72153  2014-06-03 22:30:00  ...  37.752307         ASSAULT\n",
              "747179  747179  2004-10-24 10:00:00  ...  37.786452   LARCENY/THEFT\n",
              "730078  730078  2005-01-18 22:14:00  ...  37.745805  OTHER OFFENSES\n",
              "277992  277992  2011-07-24 10:30:00  ...  37.757968  OTHER OFFENSES\n",
              "162723  162723  2013-03-27 13:45:00  ...  37.783834    NON-CRIMINAL\n",
              "138158  138158  2013-07-20 22:15:00  ...  37.786402   LARCENY/THEFT\n",
              "165414  165414  2013-03-13 23:05:00  ...  37.780802  OTHER OFFENSES\n",
              "\n",
              "[10 rows x 8 columns]"
            ]
          },
          "metadata": {
            "tags": []
          },
          "execution_count": 49
        }
      ]
    },
    {
      "cell_type": "markdown",
      "metadata": {
        "id": "FXK3fXcYvB3M"
      },
      "source": [
        "<h1>Classification Struggles & Limitations</h1>\n",
        "Classification difficulties include mostly runtime restrictions. \n",
        "While we received promising results using a pipeline to test different models on samples of the datasets, it became apparent that time constraints would create a significant barrier to realistically being able to use these models for such a large dataset. Attempting to use Gradient, for example, resulted in observing runtimes exceeding thirty minutes with no completion.\n",
        "\n",
        "Grid Searching for ideal hyperparameters was deemed likewise unrealistic given the sheer size of the dataset. To circumvent this, we used samples to experiment with ideal hyperparameters and then tuned the model from there with estimation."
      ]
    },
    {
      "cell_type": "markdown",
      "metadata": {
        "id": "TYnNc2IvvO_2"
      },
      "source": [
        "<h1>Classification Findings</h1>\n",
        "Our classification findings show that time of day and time of year are significant indicators than police department/district for the determination of what categories of crime occur and when, but are not nearly as indicative as location.<br>\n",
        "Keep in mind, this accuracy score is determined without weighing in any crime scene evidence at all."
      ]
    },
    {
      "cell_type": "markdown",
      "metadata": {
        "id": "C7dhAtUTkf0v"
      },
      "source": [
        "<h1>Further Research Direction</h1>\n",
        "Additional future research with additional metrics like \"victim_is_female\" or \"blood_found\" would likely ramp up the accuracy considerably. This model managed to predict crime category from nearly 40 possibilities more than 10x more accuratley than random selection. With actual crime evidence representation within our metrics, the algorithm would likely demonstrate better performance."
      ]
    },
    {
      "cell_type": "markdown",
      "metadata": {
        "id": "R2-GWVPmbzH0"
      },
      "source": [
        "### Folium"
      ]
    },
    {
      "cell_type": "markdown",
      "metadata": {
        "id": "nY2GB5DSb4OB"
      },
      "source": [
        "Folium is a library that allows you to view lat/long points on a real map alongside additional data metrics. Here, we used Folium to plot crimes by area alongside their descriptions from our entire dataset and then with a subset of just substance related crimes."
      ]
    },
    {
      "cell_type": "code",
      "metadata": {
        "id": "1TUaXpnub1n-"
      },
      "source": [
        "# Uncomment the following line for folium import\n",
        "##pip install folium"
      ],
      "execution_count": null,
      "outputs": []
    },
    {
      "cell_type": "code",
      "metadata": {
        "id": "P2PihTKniUp1"
      },
      "source": [
        "import folium\n",
        "import pandas as pd \n",
        "import sys\n",
        "\n",
        "from folium.plugins import MarkerCluster\n",
        "from google.colab import drive"
      ],
      "execution_count": null,
      "outputs": []
    },
    {
      "cell_type": "code",
      "metadata": {
        "id": "jV6IMcKniYzP",
        "colab": {
          "base_uri": "https://localhost:8080/",
          "height": 122
        },
        "outputId": "294e780b-ce62-4335-fe69-cb74d1cb2b5b"
      },
      "source": [
        "# Import data from Google Collab\n",
        "drive.mount('/content/drive')\n",
        "\n",
        "crimedata = pd.read_csv(\n",
        "     'drive/Shared drives/SI370_KaggleDrive/assets/train.csv')"
      ],
      "execution_count": null,
      "outputs": [
        {
          "output_type": "stream",
          "text": [
            "Go to this URL in a browser: https://accounts.google.com/o/oauth2/auth?client_id=947318989803-6bn6qk8qdgf4n4g3pfee6491hc0brc4i.apps.googleusercontent.com&redirect_uri=urn%3aietf%3awg%3aoauth%3a2.0%3aoob&response_type=code&scope=email%20https%3a%2f%2fwww.googleapis.com%2fauth%2fdocs.test%20https%3a%2f%2fwww.googleapis.com%2fauth%2fdrive%20https%3a%2f%2fwww.googleapis.com%2fauth%2fdrive.photos.readonly%20https%3a%2f%2fwww.googleapis.com%2fauth%2fpeopleapi.readonly\n",
            "\n",
            "Enter your authorization code:\n",
            "··········\n",
            "Mounted at /content/drive\n"
          ],
          "name": "stdout"
        }
      ]
    },
    {
      "cell_type": "code",
      "metadata": {
        "id": "adPl8lY_icK7"
      },
      "source": [
        "# Get a random sample of the data to prevent Jupyter kernel from crashing\n",
        "sample = crimedata.sample(50000)"
      ],
      "execution_count": null,
      "outputs": []
    },
    {
      "cell_type": "markdown",
      "metadata": {
        "id": "1_mjQJ_EiqIC"
      },
      "source": [
        "## General Crime Map\n",
        "Map a sample of crime locations and display details.\n",
        "<br />HTML map is created and saved in the same file folder as this script."
      ]
    },
    {
      "cell_type": "code",
      "metadata": {
        "id": "Pa4ZKA_lipEn"
      },
      "source": [
        "sf_boundary_coords = (37.76, -122.45)"
      ],
      "execution_count": null,
      "outputs": []
    },
    {
      "cell_type": "code",
      "metadata": {
        "id": "0q-43XsdiuqS"
      },
      "source": [
        "# Create an empty map of San Francisco\n",
        "map1 = folium.Map(location=sf_boundary_coords, zoom_start=12)"
      ],
      "execution_count": null,
      "outputs": []
    },
    {
      "cell_type": "code",
      "metadata": {
        "id": "fdso-BDTimFO"
      },
      "source": [
        "# Create location markers\n",
        "mc = MarkerCluster().add_to(map1)\n",
        "\n",
        "# Add crime data to the location markers\n",
        "for each in sample.iterrows():\n",
        "    folium.Marker(\n",
        "        [each[1]['Y'], each[1]['X']],\n",
        "        popup=\"S.F.P.D. District: {}\".format(each[1]['PdDistrict'].lower().capitalize()) \n",
        "        + \"<br><br>Crime Category: {}\".format(each[1]['Category'].lower().capitalize())\n",
        "        + \"<br><br>Description: {}\".format(each[1]['Descript'].lower().capitalize())\n",
        "    ).add_to(mc)"
      ],
      "execution_count": null,
      "outputs": []
    },
    {
      "cell_type": "code",
      "metadata": {
        "id": "k06ZdgSWiyuy"
      },
      "source": [
        "# Run this cell to save the HTML map to prevent Jupyter kernel from crashing\n",
        "# View it by opening it from the local project folder\n",
        "mc.save('all_crimes_map.html')"
      ],
      "execution_count": null,
      "outputs": []
    },
    {
      "cell_type": "markdown",
      "metadata": {
        "id": "9WHsXwvKi1qZ"
      },
      "source": [
        "## Crime-Specific Map\n",
        "Map drug & alcohol crime locations occurring on weekends and display details.\n",
        "<br />HTML map is created and saved in the same file folder as this script."
      ]
    },
    {
      "cell_type": "code",
      "metadata": {
        "id": "j_iX4clqi3mG"
      },
      "source": [
        "weekend_days = ['Sunday','Saturday']\n",
        "substance_crimes = [\n",
        "    'DRUNKENNESS',\n",
        "    'DRUG/NARCOTIC',\n",
        "    'DRIVING UNDER THE INFLUENCE'\n",
        "] "
      ],
      "execution_count": null,
      "outputs": []
    },
    {
      "cell_type": "code",
      "metadata": {
        "id": "Scea2hTLi6cU"
      },
      "source": [
        "days_cond = crimedata['DayOfWeek'].isin(weekend_days) \n",
        "crimes_cond = crimedata['Category'].isin(substance_crimes)\n",
        " \n",
        "filtered_crimeData = crimedata[days_cond & crimes_cond]"
      ],
      "execution_count": null,
      "outputs": []
    },
    {
      "cell_type": "code",
      "metadata": {
        "id": "OUUyrTLajSUB"
      },
      "source": [
        "# Create an empty map of San Francisco\n",
        "map2 = folium.Map(location=sf_boundary_coords, zoom_start=12)"
      ],
      "execution_count": null,
      "outputs": []
    },
    {
      "cell_type": "code",
      "metadata": {
        "id": "tVKODcuJjT6O"
      },
      "source": [
        "# Create location markers\n",
        "mc2 = MarkerCluster().add_to(map2)\n",
        "\n",
        "# Add crime data to the location markers\n",
        "for each in filtered_crimeData.iterrows():\n",
        "    folium.Marker(\n",
        "        [each[1]['Y'], each[1]['X']],\n",
        "        popup=\"S.F.P.D. District: {}\".format(each[1]['PdDistrict'].lower().capitalize()) \n",
        "        + \"<br><br>Crime Category: {}\".format(each[1]['Category'].lower().capitalize())\n",
        "        + \"<br><br>Description: {}\".format(each[1]['Descript'].lower().capitalize())\n",
        "    ).add_to(mc2)"
      ],
      "execution_count": null,
      "outputs": []
    },
    {
      "cell_type": "code",
      "metadata": {
        "id": "s0MFRqQBjVrM"
      },
      "source": [
        "# Run this cell to save the HTML map to prevent Jupyter kernel from crashing\n",
        "# View it by opening it from the local project folder\n",
        "mc2.save('wild_weekends_map.html')"
      ],
      "execution_count": null,
      "outputs": []
    },
    {
      "cell_type": "markdown",
      "metadata": {
        "id": "No9fqp07jZnj"
      },
      "source": [
        "### Visualization Findings\n",
        "\n",
        "Folium allows us to visualize specific types of crime on specific days. Here, we wanted to observe how drugs and alchohol related crime affects different areas of the city during weekends, when usage rates are the highest. According to the \"Wild Weekends\" map, Metropolitan San Francisco, especially the O'Farrell Street area, sees more than 300% more drug and alchohol related crime on the weekends than the next highest area. Additionally, there appears to be a massive drug hotspot at the intersection of Ellis and Jones Street. "
      ]
    },
    {
      "cell_type": "markdown",
      "metadata": {
        "id": "g-smehQ4jejd"
      },
      "source": [
        "### Challenges & Limitations\n",
        "\n",
        "The dataset used to produce these visualizations is very large. This made preparing and working with the data complicated. We chose to work with a random sample of 50,000 records after trial and error, simply attempting to take larger samples until our kernels died. \n",
        "\n",
        "The visualization is saved to a file rather than displayed in Jupyter. This is also a result of the size of the dataset. While we were determining an appropriate sample size, we noticed that as the samples grew larger the maps would no longer render. Saving the maps to HTML files and accessing the visualization by opening them in the project folder allowed us to include a much larger portion of the dataset."
      ]
    },
    {
      "cell_type": "markdown",
      "metadata": {
        "id": "KKmjnMuNjhdr"
      },
      "source": [
        "### Future Work\n",
        "\n",
        "We wanted to plot as many data points on the map as possible. Although we were able to include a large sample of the data, we would like to explore additional or alternative tools that could allow us to map the entire dataset. \n",
        "\n",
        "This dataset includes a wide variety of reported crimes and metadata not reflected or easily unnoticed in the current visualizations. Future considerations include user-defined map options, such as specific crime categories or timespan. \n"
      ]
    },
    {
      "cell_type": "code",
      "metadata": {
        "id": "v4aYChjwjh_J"
      },
      "source": [
        ""
      ],
      "execution_count": null,
      "outputs": []
    }
  ]
}